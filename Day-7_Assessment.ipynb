{
 "cells": [
  {
   "cell_type": "code",
   "execution_count": 1,
   "metadata": {},
   "outputs": [
    {
     "name": "stdout",
     "output_type": "stream",
     "text": [
      "Collecting gensim\n",
      "  Downloading gensim-4.3.3-cp312-cp312-win_amd64.whl.metadata (8.2 kB)\n",
      "Requirement already satisfied: nltk in c:\\users\\deeks\\appdata\\local\\programs\\python\\python312\\lib\\site-packages (3.8.1)\n",
      "Requirement already satisfied: numpy<2.0,>=1.18.5 in c:\\users\\deeks\\appdata\\local\\programs\\python\\python312\\lib\\site-packages (from gensim) (1.26.3)\n",
      "Collecting scipy<1.14.0,>=1.7.0 (from gensim)\n",
      "  Downloading scipy-1.13.1-cp312-cp312-win_amd64.whl.metadata (60 kB)\n",
      "Requirement already satisfied: smart-open>=1.8.1 in c:\\users\\deeks\\appdata\\local\\programs\\python\\python312\\lib\\site-packages (from gensim) (7.1.0)\n",
      "Requirement already satisfied: click in c:\\users\\deeks\\appdata\\local\\programs\\python\\python312\\lib\\site-packages (from nltk) (8.1.7)\n",
      "Requirement already satisfied: joblib in c:\\users\\deeks\\appdata\\local\\programs\\python\\python312\\lib\\site-packages (from nltk) (1.3.2)\n",
      "Requirement already satisfied: regex>=2021.8.3 in c:\\users\\deeks\\appdata\\local\\programs\\python\\python312\\lib\\site-packages (from nltk) (2023.12.25)\n",
      "Requirement already satisfied: tqdm in c:\\users\\deeks\\appdata\\local\\programs\\python\\python312\\lib\\site-packages (from nltk) (4.66.1)\n",
      "Requirement already satisfied: wrapt in c:\\users\\deeks\\appdata\\local\\programs\\python\\python312\\lib\\site-packages (from smart-open>=1.8.1->gensim) (1.17.0)\n",
      "Requirement already satisfied: colorama in c:\\users\\deeks\\appdata\\local\\programs\\python\\python312\\lib\\site-packages (from click->nltk) (0.4.6)\n",
      "Downloading gensim-4.3.3-cp312-cp312-win_amd64.whl (24.0 MB)\n",
      "   ---------------------------------------- 0.0/24.0 MB ? eta -:--:--\n",
      "   -- ------------------------------------- 1.6/24.0 MB 8.4 MB/s eta 0:00:03\n",
      "   ----- ---------------------------------- 3.4/24.0 MB 8.4 MB/s eta 0:00:03\n",
      "   ------ --------------------------------- 3.9/24.0 MB 7.6 MB/s eta 0:00:03\n",
      "   ------- -------------------------------- 4.5/24.0 MB 5.6 MB/s eta 0:00:04\n",
      "   ------- -------------------------------- 4.7/24.0 MB 4.7 MB/s eta 0:00:05\n",
      "   --------- ------------------------------ 5.5/24.0 MB 4.2 MB/s eta 0:00:05\n",
      "   ----------- ---------------------------- 7.1/24.0 MB 4.7 MB/s eta 0:00:04\n",
      "   ------------- -------------------------- 8.4/24.0 MB 5.1 MB/s eta 0:00:04\n",
      "   --------------- ------------------------ 9.2/24.0 MB 4.8 MB/s eta 0:00:04\n",
      "   ------------------ --------------------- 11.0/24.0 MB 5.3 MB/s eta 0:00:03\n",
      "   --------------------- ------------------ 13.1/24.0 MB 5.6 MB/s eta 0:00:02\n",
      "   ------------------------ --------------- 14.9/24.0 MB 5.9 MB/s eta 0:00:02\n",
      "   --------------------------- ------------ 16.8/24.0 MB 6.1 MB/s eta 0:00:02\n",
      "   ------------------------------ --------- 18.1/24.0 MB 6.2 MB/s eta 0:00:01\n",
      "   -------------------------------- ------- 19.7/24.0 MB 6.3 MB/s eta 0:00:01\n",
      "   ----------------------------------- ---- 21.2/24.0 MB 6.3 MB/s eta 0:00:01\n",
      "   ------------------------------------- -- 22.5/24.0 MB 6.3 MB/s eta 0:00:01\n",
      "   ---------------------------------------  23.9/24.0 MB 6.4 MB/s eta 0:00:01\n",
      "   ---------------------------------------- 24.0/24.0 MB 6.2 MB/s eta 0:00:00\n",
      "Downloading scipy-1.13.1-cp312-cp312-win_amd64.whl (45.9 MB)\n",
      "   ---------------------------------------- 0.0/45.9 MB ? eta -:--:--\n",
      "   - -------------------------------------- 1.3/45.9 MB 7.5 MB/s eta 0:00:06\n",
      "   -- ------------------------------------- 2.9/45.9 MB 7.3 MB/s eta 0:00:06\n",
      "   --- ------------------------------------ 4.5/45.9 MB 7.1 MB/s eta 0:00:06\n",
      "   ---- ----------------------------------- 5.5/45.9 MB 6.6 MB/s eta 0:00:07\n",
      "   ----- ---------------------------------- 6.0/45.9 MB 6.2 MB/s eta 0:00:07\n",
      "   ------ --------------------------------- 7.1/45.9 MB 5.5 MB/s eta 0:00:08\n",
      "   ------ --------------------------------- 7.9/45.9 MB 5.4 MB/s eta 0:00:08\n",
      "   ------- -------------------------------- 8.9/45.9 MB 5.2 MB/s eta 0:00:08\n",
      "   -------- ------------------------------- 10.0/45.9 MB 5.1 MB/s eta 0:00:08\n",
      "   --------- ------------------------------ 10.7/45.9 MB 5.1 MB/s eta 0:00:07\n",
      "   ---------- ----------------------------- 11.8/45.9 MB 5.0 MB/s eta 0:00:07\n",
      "   ----------- ---------------------------- 12.8/45.9 MB 5.0 MB/s eta 0:00:07\n",
      "   ------------ --------------------------- 14.2/45.9 MB 5.1 MB/s eta 0:00:07\n",
      "   ------------- -------------------------- 15.2/45.9 MB 5.1 MB/s eta 0:00:07\n",
      "   -------------- ------------------------- 16.5/45.9 MB 5.1 MB/s eta 0:00:06\n",
      "   --------------- ------------------------ 17.8/45.9 MB 5.2 MB/s eta 0:00:06\n",
      "   ---------------- ----------------------- 19.1/45.9 MB 5.2 MB/s eta 0:00:06\n",
      "   ----------------- ---------------------- 20.2/45.9 MB 5.2 MB/s eta 0:00:05\n",
      "   ------------------ --------------------- 21.5/45.9 MB 5.2 MB/s eta 0:00:05\n",
      "   ------------------- -------------------- 22.5/45.9 MB 5.3 MB/s eta 0:00:05\n",
      "   -------------------- ------------------- 23.9/45.9 MB 5.3 MB/s eta 0:00:05\n",
      "   --------------------- ------------------ 25.2/45.9 MB 5.3 MB/s eta 0:00:04\n",
      "   ---------------------- ----------------- 26.2/45.9 MB 5.3 MB/s eta 0:00:04\n",
      "   ----------------------- ---------------- 27.5/45.9 MB 5.4 MB/s eta 0:00:04\n",
      "   ------------------------ --------------- 28.3/45.9 MB 5.4 MB/s eta 0:00:04\n",
      "   ------------------------- -------------- 29.1/45.9 MB 5.3 MB/s eta 0:00:04\n",
      "   ------------------------- -------------- 29.4/45.9 MB 5.3 MB/s eta 0:00:04\n",
      "   -------------------------- ------------- 30.4/45.9 MB 5.1 MB/s eta 0:00:04\n",
      "   --------------------------- ------------ 31.5/45.9 MB 5.1 MB/s eta 0:00:03\n",
      "   ---------------------------- ----------- 32.8/45.9 MB 5.1 MB/s eta 0:00:03\n",
      "   ----------------------------- ---------- 34.3/45.9 MB 5.2 MB/s eta 0:00:03\n",
      "   ------------------------------- -------- 35.9/45.9 MB 5.3 MB/s eta 0:00:02\n",
      "   -------------------------------- ------- 37.5/45.9 MB 5.3 MB/s eta 0:00:02\n",
      "   --------------------------------- ------ 38.8/45.9 MB 5.4 MB/s eta 0:00:02\n",
      "   ----------------------------------- ---- 40.4/45.9 MB 5.4 MB/s eta 0:00:02\n",
      "   ------------------------------------ --- 41.9/45.9 MB 5.5 MB/s eta 0:00:01\n",
      "   ------------------------------------- -- 43.3/45.9 MB 5.5 MB/s eta 0:00:01\n",
      "   -------------------------------------- - 44.6/45.9 MB 5.5 MB/s eta 0:00:01\n",
      "   ---------------------------------------  45.9/45.9 MB 5.6 MB/s eta 0:00:01\n",
      "   ---------------------------------------- 45.9/45.9 MB 5.5 MB/s eta 0:00:00\n",
      "Installing collected packages: scipy, gensim\n",
      "Successfully installed gensim-4.3.3 scipy-1.13.1\n",
      "Note: you may need to restart the kernel to use updated packages.\n"
     ]
    }
   ],
   "source": [
    "pip install gensim nltk\n"
   ]
  },
  {
   "cell_type": "code",
   "execution_count": 3,
   "metadata": {},
   "outputs": [
    {
     "name": "stdout",
     "output_type": "stream",
     "text": [
      "Processed Tokens: []\n"
     ]
    },
    {
     "name": "stderr",
     "output_type": "stream",
     "text": [
      "[nltk_data] Downloading package wordnet to\n",
      "[nltk_data]     C:\\Users\\deeks\\AppData\\Roaming\\nltk_data...\n",
      "[nltk_data]   Package wordnet is already up-to-date!\n",
      "[nltk_data] Downloading package stopwords to\n",
      "[nltk_data]     C:\\Users\\deeks\\AppData\\Roaming\\nltk_data...\n",
      "[nltk_data]   Package stopwords is already up-to-date!\n"
     ]
    }
   ],
   "source": [
    "import gensim\n",
    "from gensim.utils import simple_preprocess\n",
    "from gensim.parsing.preprocessing import STOPWORDS, stem_text\n",
    "from nltk.stem import WordNetLemmatizer\n",
    "from nltk.corpus import stopwords\n",
    "import nltk\n",
    "nltk.download('wordnet')\n",
    "nltk.download('stopwords')\n",
    "lemmatizer = WordNetLemmatizer()\n",
    "\n",
    "def preprocess_text(text):\n",
    "    tokens = simple_preprocess(text, deacc=True)  \n",
    "    stop_words = set(stopwords.words('english'))\n",
    "    tokens = [token for token in tokens if token not in stop_words]\n",
    "    stemmed_tokens = [stem_text(token) for token in tokens]\n",
    "    lemmatized_tokens = [lemmatizer.lemmatize(token) for token in stemmed_tokens]\n",
    "    return lemmatized_tokens\n",
    "def process_file(file_path):\n",
    "    with open(file_path, 'r') as file:\n",
    "        text = file.read()\n",
    "    return preprocess_text(text)\n",
    "sample_text_path = 'sample_text.txt'  # Ensure this file exists\n",
    "processed_tokens = process_file(sample_text_path)\n",
    "print(\"Processed Tokens:\", processed_tokens)\n"
   ]
  }
 ],
 "metadata": {
  "kernelspec": {
   "display_name": "Python 3",
   "language": "python",
   "name": "python3"
  },
  "language_info": {
   "codemirror_mode": {
    "name": "ipython",
    "version": 3
   },
   "file_extension": ".py",
   "mimetype": "text/x-python",
   "name": "python",
   "nbconvert_exporter": "python",
   "pygments_lexer": "ipython3",
   "version": "3.12.0"
  }
 },
 "nbformat": 4,
 "nbformat_minor": 2
}
