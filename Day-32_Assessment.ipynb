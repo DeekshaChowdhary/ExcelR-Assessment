{
 "cells": [
  {
   "cell_type": "code",
   "execution_count": null,
   "metadata": {},
   "outputs": [],
   "source": [
    "## Write a Python program to load a text file, perform tokenization, calculate the term frequency (TF) of each token, \n",
    "## and display the top 5 most frequent tokens."
   ]
  },
  {
   "cell_type": "code",
   "execution_count": 1,
   "metadata": {},
   "outputs": [
    {
     "name": "stdout",
     "output_type": "stream",
     "text": [
      "Error: The specified file was not found.\n"
     ]
    },
    {
     "name": "stderr",
     "output_type": "stream",
     "text": [
      "[nltk_data] Downloading package punkt to\n",
      "[nltk_data]     C:\\Users\\deeks\\AppData\\Roaming\\nltk_data...\n",
      "[nltk_data]   Package punkt is already up-to-date!\n"
     ]
    }
   ],
   "source": [
    "import string\n",
    "from collections import Counter\n",
    "from nltk.tokenize import word_tokenize\n",
    "import nltk\n",
    "\n",
    "# Download necessary NLTK data (only required the first time)\n",
    "nltk.download('punkt')\n",
    "\n",
    "def calculate_term_frequency(file_path, top_n=5):\n",
    "    try:\n",
    "        # Load the text file\n",
    "        with open(file_path, 'r', encoding='utf-8') as file:\n",
    "            text = file.read()\n",
    "\n",
    "        # Tokenize the text\n",
    "        tokens = word_tokenize(text)\n",
    "\n",
    "        # Convert tokens to lowercase and filter out punctuation\n",
    "        words = [word.lower() for word in tokens if word.isalpha()]\n",
    "\n",
    "        # Calculate term frequency using Counter\n",
    "        term_frequency = Counter(words)\n",
    "\n",
    "        # Get the top N most frequent tokens\n",
    "        most_common = term_frequency.most_common(top_n)\n",
    "\n",
    "        # Display the results\n",
    "        print(f\"Top {top_n} most frequent tokens:\")\n",
    "        for word, count in most_common:\n",
    "            print(f\"{word}: {count}\")\n",
    "\n",
    "    except FileNotFoundError:\n",
    "        print(\"Error: The specified file was not found.\")\n",
    "    except Exception as e:\n",
    "        print(f\"An error occurred: {e}\")\n",
    "\n",
    "# Specify the path to your text file\n",
    "file_path = \"example.txt\"  # Replace with the path to your text file\n",
    "\n",
    "# Perform the calculation and display results\n",
    "calculate_term_frequency(file_path)\n"
   ]
  },
  {
   "cell_type": "code",
   "execution_count": null,
   "metadata": {},
   "outputs": [],
   "source": []
  }
 ],
 "metadata": {
  "kernelspec": {
   "display_name": "Python 3",
   "language": "python",
   "name": "python3"
  },
  "language_info": {
   "codemirror_mode": {
    "name": "ipython",
    "version": 3
   },
   "file_extension": ".py",
   "mimetype": "text/x-python",
   "name": "python",
   "nbconvert_exporter": "python",
   "pygments_lexer": "ipython3",
   "version": "3.12.0"
  }
 },
 "nbformat": 4,
 "nbformat_minor": 2
}
