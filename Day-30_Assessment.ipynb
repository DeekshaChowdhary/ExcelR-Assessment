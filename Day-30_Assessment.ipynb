{
 "cells": [
  {
   "cell_type": "code",
   "execution_count": null,
   "metadata": {},
   "outputs": [],
   "source": [
    "## Write a Python program to perform sentiment analysis on a given text using the TextBlob library.\n",
    "## Display whether the sentiment is positive, negative, or neutral"
   ]
  },
  {
   "cell_type": "code",
   "execution_count": 1,
   "metadata": {},
   "outputs": [
    {
     "name": "stdout",
     "output_type": "stream",
     "text": [
      "Collecting textblob\n",
      "  Downloading textblob-0.19.0-py3-none-any.whl.metadata (4.4 kB)\n",
      "Collecting nltk>=3.9 (from textblob)\n",
      "  Downloading nltk-3.9.1-py3-none-any.whl.metadata (2.9 kB)\n",
      "Requirement already satisfied: click in c:\\users\\deeks\\appdata\\local\\programs\\python\\python312\\lib\\site-packages (from nltk>=3.9->textblob) (8.1.7)\n",
      "Requirement already satisfied: joblib in c:\\users\\deeks\\appdata\\local\\programs\\python\\python312\\lib\\site-packages (from nltk>=3.9->textblob) (1.3.2)\n",
      "Requirement already satisfied: regex>=2021.8.3 in c:\\users\\deeks\\appdata\\local\\programs\\python\\python312\\lib\\site-packages (from nltk>=3.9->textblob) (2023.12.25)\n",
      "Requirement already satisfied: tqdm in c:\\users\\deeks\\appdata\\local\\programs\\python\\python312\\lib\\site-packages (from nltk>=3.9->textblob) (4.66.1)\n",
      "Requirement already satisfied: colorama in c:\\users\\deeks\\appdata\\local\\programs\\python\\python312\\lib\\site-packages (from click->nltk>=3.9->textblob) (0.4.6)\n",
      "Downloading textblob-0.19.0-py3-none-any.whl (624 kB)\n",
      "   ---------------------------------------- 0.0/624.3 kB ? eta -:--:--\n",
      "   ---------------------------------------- 624.3/624.3 kB 4.6 MB/s eta 0:00:00\n",
      "Downloading nltk-3.9.1-py3-none-any.whl (1.5 MB)\n",
      "   ---------------------------------------- 0.0/1.5 MB ? eta -:--:--\n",
      "   ---------------------------------- ----- 1.3/1.5 MB 6.7 MB/s eta 0:00:01\n",
      "   ---------------------------------------- 1.5/1.5 MB 6.1 MB/s eta 0:00:00\n",
      "Installing collected packages: nltk, textblob\n",
      "  Attempting uninstall: nltk\n",
      "    Found existing installation: nltk 3.8.1\n",
      "    Uninstalling nltk-3.8.1:\n",
      "      Successfully uninstalled nltk-3.8.1\n",
      "Successfully installed nltk-3.9.1 textblob-0.19.0\n",
      "Note: you may need to restart the kernel to use updated packages.\n"
     ]
    }
   ],
   "source": [
    "pip install textblob"
   ]
  },
  {
   "cell_type": "code",
   "execution_count": 2,
   "metadata": {},
   "outputs": [
    {
     "name": "stdout",
     "output_type": "stream",
     "text": [
      "Text: I love this product! It's absolutely fantastic.\n",
      "Sentiment Polarity: 0.51\n",
      "Overall Sentiment: Positive\n"
     ]
    }
   ],
   "source": [
    "from textblob import TextBlob\n",
    "\n",
    "def analyze_sentiment(text):\n",
    "    try:\n",
    "        # Create a TextBlob object\n",
    "        blob = TextBlob(text)\n",
    "\n",
    "        # Get the sentiment polarity\n",
    "        sentiment_polarity = blob.sentiment.polarity\n",
    "\n",
    "        # Determine the sentiment category\n",
    "        if sentiment_polarity > 0:\n",
    "            sentiment = \"Positive\"\n",
    "        elif sentiment_polarity < 0:\n",
    "            sentiment = \"Negative\"\n",
    "        else:\n",
    "            sentiment = \"Neutral\"\n",
    "\n",
    "        # Display the sentiment\n",
    "        print(f\"Text: {text}\")\n",
    "        print(f\"Sentiment Polarity: {sentiment_polarity:.2f}\")\n",
    "        print(f\"Overall Sentiment: {sentiment}\")\n",
    "\n",
    "    except Exception as e:\n",
    "        print(f\"An error occurred: {e}\")\n",
    "\n",
    "# Example text\n",
    "text = \"I love this product! It's absolutely fantastic.\"\n",
    "\n",
    "# Perform sentiment analysis\n",
    "analyze_sentiment(text)\n"
   ]
  },
  {
   "cell_type": "code",
   "execution_count": null,
   "metadata": {},
   "outputs": [],
   "source": []
  }
 ],
 "metadata": {
  "kernelspec": {
   "display_name": "Python 3",
   "language": "python",
   "name": "python3"
  },
  "language_info": {
   "codemirror_mode": {
    "name": "ipython",
    "version": 3
   },
   "file_extension": ".py",
   "mimetype": "text/x-python",
   "name": "python",
   "nbconvert_exporter": "python",
   "pygments_lexer": "ipython3",
   "version": "3.12.0"
  }
 },
 "nbformat": 4,
 "nbformat_minor": 2
}
