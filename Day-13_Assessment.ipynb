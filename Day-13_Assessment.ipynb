{
 "cells": [
  {
   "cell_type": "code",
   "execution_count": null,
   "metadata": {},
   "outputs": [],
   "source": [
    "## Write a Python script to perform part-of-speech tagging on the sentence:\n",
    "## 'NLP is amazing and fun to learn.' using SpaCy."
   ]
  },
  {
   "cell_type": "code",
   "execution_count": 1,
   "metadata": {},
   "outputs": [
    {
     "name": "stdout",
     "output_type": "stream",
     "text": [
      "Token\tPOS Tag\tExplanation\n",
      "------------------------------\n",
      "NLP\tPROPN\tproper noun\n",
      "is\tAUX\tauxiliary\n",
      "amazing\tADJ\tadjective\n",
      "and\tCCONJ\tcoordinating conjunction\n",
      "fun\tADJ\tadjective\n",
      "to\tPART\tparticle\n",
      "learn\tVERB\tverb\n",
      ".\tPUNCT\tpunctuation\n"
     ]
    }
   ],
   "source": [
    "import spacy\n",
    "\n",
    "# Load the SpaCy English language model\n",
    "nlp = spacy.load(\"en_core_web_sm\")\n",
    "\n",
    "# Sentence for part-of-speech tagging\n",
    "sentence = \"NLP is amazing and fun to learn.\"\n",
    "\n",
    "# Process the sentence using SpaCy\n",
    "doc = nlp(sentence)\n",
    "\n",
    "# Perform POS tagging and display the results\n",
    "print(\"Token\\tPOS Tag\\tExplanation\")\n",
    "print(\"-\" * 30)\n",
    "for token in doc:\n",
    "    print(f\"{token.text}\\t{token.pos_}\\t{spacy.explain(token.pos_)}\")\n"
   ]
  }
 ],
 "metadata": {
  "kernelspec": {
   "display_name": "Python 3",
   "language": "python",
   "name": "python3"
  },
  "language_info": {
   "codemirror_mode": {
    "name": "ipython",
    "version": 3
   },
   "file_extension": ".py",
   "mimetype": "text/x-python",
   "name": "python",
   "nbconvert_exporter": "python",
   "pygments_lexer": "ipython3",
   "version": "3.12.0"
  }
 },
 "nbformat": 4,
 "nbformat_minor": 2
}
