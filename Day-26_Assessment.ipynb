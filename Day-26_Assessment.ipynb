{
 "cells": [
  {
   "cell_type": "code",
   "execution_count": 1,
   "metadata": {},
   "outputs": [],
   "source": [
    "##Write a Python program to calculate the cosine similarity between two strings using the Scikit-learn library. You can use the\n",
    "##  'TfidfVectorizer' class to transform the text into vectors"
   ]
  },
  {
   "cell_type": "code",
   "execution_count": 1,
   "metadata": {},
   "outputs": [
    {
     "name": "stdout",
     "output_type": "stream",
     "text": [
      "Collecting scikit-learn\n",
      "  Downloading scikit_learn-1.6.1-cp312-cp312-win_amd64.whl.metadata (15 kB)\n",
      "Requirement already satisfied: numpy>=1.19.5 in c:\\users\\deeks\\appdata\\local\\programs\\python\\python312\\lib\\site-packages (from scikit-learn) (1.26.3)\n",
      "Requirement already satisfied: scipy>=1.6.0 in c:\\users\\deeks\\appdata\\local\\programs\\python\\python312\\lib\\site-packages (from scikit-learn) (1.13.1)\n",
      "Requirement already satisfied: joblib>=1.2.0 in c:\\users\\deeks\\appdata\\local\\programs\\python\\python312\\lib\\site-packages (from scikit-learn) (1.3.2)\n",
      "Collecting threadpoolctl>=3.1.0 (from scikit-learn)\n",
      "  Downloading threadpoolctl-3.5.0-py3-none-any.whl.metadata (13 kB)\n",
      "Downloading scikit_learn-1.6.1-cp312-cp312-win_amd64.whl (11.1 MB)\n",
      "   ---------------------------------------- 0.0/11.1 MB ? eta -:--:--\n",
      "    --------------------------------------- 0.3/11.1 MB ? eta -:--:--\n",
      "   ---- ----------------------------------- 1.3/11.1 MB 3.7 MB/s eta 0:00:03\n",
      "   --------- ------------------------------ 2.6/11.1 MB 4.9 MB/s eta 0:00:02\n",
      "   --------------- ------------------------ 4.2/11.1 MB 5.5 MB/s eta 0:00:02\n",
      "   ------------------- -------------------- 5.5/11.1 MB 5.7 MB/s eta 0:00:01\n",
      "   ------------------------- -------------- 7.1/11.1 MB 5.9 MB/s eta 0:00:01\n",
      "   ----------------------------- ---------- 8.1/11.1 MB 6.0 MB/s eta 0:00:01\n",
      "   --------------------------------- ------ 9.4/11.1 MB 5.9 MB/s eta 0:00:01\n",
      "   -------------------------------------- - 10.7/11.1 MB 6.0 MB/s eta 0:00:01\n",
      "   ---------------------------------------- 11.1/11.1 MB 5.9 MB/s eta 0:00:00\n",
      "Downloading threadpoolctl-3.5.0-py3-none-any.whl (18 kB)\n",
      "Installing collected packages: threadpoolctl, scikit-learn\n",
      "Successfully installed scikit-learn-1.6.1 threadpoolctl-3.5.0\n",
      "Note: you may need to restart the kernel to use updated packages.\n"
     ]
    }
   ],
   "source": [
    "pip install scikit-learn"
   ]
  },
  {
   "cell_type": "code",
   "execution_count": 2,
   "metadata": {},
   "outputs": [
    {
     "name": "stdout",
     "output_type": "stream",
     "text": [
      "Cosine Similarity: 0.5194\n"
     ]
    }
   ],
   "source": [
    "from sklearn.feature_extraction.text import TfidfVectorizer\n",
    "from sklearn.metrics.pairwise import cosine_similarity\n",
    "\n",
    "def calculate_cosine_similarity(string1, string2):\n",
    "    try:\n",
    "        # Create a TfidfVectorizer\n",
    "        vectorizer = TfidfVectorizer()\n",
    "\n",
    "        # Transform the strings into TF-IDF vectors\n",
    "        tfidf_matrix = vectorizer.fit_transform([string1, string2])\n",
    "\n",
    "        # Calculate the cosine similarity\n",
    "        cosine_sim = cosine_similarity(tfidf_matrix[0:1], tfidf_matrix[1:2])[0][0]\n",
    "\n",
    "        return cosine_sim\n",
    "    except Exception as e:\n",
    "        print(f\"An error occurred: {e}\")\n",
    "        return None\n",
    "\n",
    "# Example strings\n",
    "string1 = \"I love programming and data science.\"\n",
    "string2 = \"Data science and programming are my passions.\"\n",
    "\n",
    "# Calculate and print the cosine similarity\n",
    "similarity = calculate_cosine_similarity(string1, string2)\n",
    "print(f\"Cosine Similarity: {similarity:.4f}\")\n"
   ]
  },
  {
   "cell_type": "code",
   "execution_count": null,
   "metadata": {},
   "outputs": [],
   "source": []
  }
 ],
 "metadata": {
  "kernelspec": {
   "display_name": "Python 3",
   "language": "python",
   "name": "python3"
  },
  "language_info": {
   "codemirror_mode": {
    "name": "ipython",
    "version": 3
   },
   "file_extension": ".py",
   "mimetype": "text/x-python",
   "name": "python",
   "nbconvert_exporter": "python",
   "pygments_lexer": "ipython3",
   "version": "3.12.0"
  }
 },
 "nbformat": 4,
 "nbformat_minor": 2
}
