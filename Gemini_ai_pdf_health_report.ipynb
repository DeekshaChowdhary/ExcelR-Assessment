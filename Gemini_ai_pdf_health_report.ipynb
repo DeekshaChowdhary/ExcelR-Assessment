{
  "nbformat": 4,
  "nbformat_minor": 0,
  "metadata": {
    "colab": {
      "provenance": [],
      "authorship_tag": "ABX9TyPQ7S3NOYBhz6gDFFnhCx43",
      "include_colab_link": true
    },
    "kernelspec": {
      "name": "python3",
      "display_name": "Python 3"
    },
    "language_info": {
      "name": "python"
    }
  },
  "cells": [
    {
      "cell_type": "markdown",
      "metadata": {
        "id": "view-in-github",
        "colab_type": "text"
      },
      "source": [
        "<a href=\"https://colab.research.google.com/github/DeekshaChowdhary/ExcelR-Assessment/blob/main/Gemini_ai_pdf_health_report.ipynb\" target=\"_parent\"><img src=\"https://colab.research.google.com/assets/colab-badge.svg\" alt=\"Open In Colab\"/></a>"
      ]
    },
    {
      "cell_type": "code",
      "execution_count": 5,
      "metadata": {
        "id": "ITgMhmxQgKTo"
      },
      "outputs": [],
      "source": [
        "import google.generativeai as genai\n",
        "from google.colab import userdata\n",
        "GEMINI_API_KEY=userdata.get('GEMINI_API_KEY')\n",
        "genai.configure(api_key=GEMINI_API_KEY)"
      ]
    },
    {
      "cell_type": "code",
      "source": [
        "pip install PyPDF2"
      ],
      "metadata": {
        "colab": {
          "base_uri": "https://localhost:8080/"
        },
        "id": "JnIaYuh3hEgZ",
        "outputId": "b8bf24b6-06f4-4eb0-ddcf-1b6e9f87fe16"
      },
      "execution_count": 6,
      "outputs": [
        {
          "output_type": "stream",
          "name": "stdout",
          "text": [
            "Collecting PyPDF2\n",
            "  Downloading pypdf2-3.0.1-py3-none-any.whl.metadata (6.8 kB)\n",
            "Downloading pypdf2-3.0.1-py3-none-any.whl (232 kB)\n",
            "\u001b[2K   \u001b[90m━━━━━━━━━━━━━━━━━━━━━━━━━━━━━━━━━━━━━━━━\u001b[0m \u001b[32m232.6/232.6 kB\u001b[0m \u001b[31m4.5 MB/s\u001b[0m eta \u001b[36m0:00:00\u001b[0m\n",
            "\u001b[?25hInstalling collected packages: PyPDF2\n",
            "Successfully installed PyPDF2-3.0.1\n"
          ]
        }
      ]
    },
    {
      "cell_type": "code",
      "source": [
        "import PyPDF2\n",
        "\n",
        "def extract_text_from_pdf(pdf_path):\n",
        "  \"\"\"Extracts text from a given health report PDF using PyPDF2\"\"\"\n",
        "  text = \"\"\n",
        "  with open(pdf_path, 'rb') as pdf_file:\n",
        "    reader = PyPDF2.PdfReader(pdf_file)\n",
        "    for page in reader.pages:\n",
        "      text += page.extract_text()\n",
        "  return text # Return outside with statement to return the accumulated text"
      ],
      "metadata": {
        "id": "XISPOreahFDa"
      },
      "execution_count": 7,
      "outputs": []
    },
    {
      "cell_type": "code",
      "source": [
        "from google.colab import drive\n",
        "drive.mount('/content/drive')"
      ],
      "metadata": {
        "colab": {
          "base_uri": "https://localhost:8080/"
        },
        "id": "GkAIiKDgikgu",
        "outputId": "d80d4350-ddb8-4eb8-b9ca-d4ef05426d8b"
      },
      "execution_count": 8,
      "outputs": [
        {
          "output_type": "stream",
          "name": "stdout",
          "text": [
            "Drive already mounted at /content/drive; to attempt to forcibly remount, call drive.mount(\"/content/drive\", force_remount=True).\n"
          ]
        }
      ]
    },
    {
      "cell_type": "code",
      "source": [
        "def extract_health_insights(text):\n",
        "  \"\"\"Ask Gemini AI to extract key medical insights from the report.\"\"\"\n",
        "  model = genai.GenerativeModel(\"gemini-1.5-flash\")\n",
        "  prompt=f\"Extract key insights from the following health report:\\n\\n{text}\"\n",
        "  response = model.generate_content(prompt)\n",
        "  return response.text\n",
        "\n",
        "pdf_file = \"/content/drive/MyDrive/Colab Notebooks/health_report.pdf\"  # Update with the actual path\n",
        "extracted_text = extract_text_from_pdf(pdf_file)\n",
        "insights = extract_health_insights(extracted_text)\n",
        "print(\"Key Insights:\\n\", insights)"
      ],
      "metadata": {
        "colab": {
          "base_uri": "https://localhost:8080/",
          "height": 506
        },
        "id": "y_KktPMUkdga",
        "outputId": "d999e51a-07c0-4f19-e3e3-097df92f934e"
      },
      "execution_count": 10,
      "outputs": [
        {
          "output_type": "stream",
          "name": "stdout",
          "text": [
            "Key Insights:\n",
            " Mr. Kishan Goud's (MR2100003157) health report from February 1st, 2021, reveals the following:\n",
            "\n",
            "**Infectious Disease Markers:**\n",
            "\n",
            "* **Widal Test:** Elevated titers for *Salmonella Typhi* \"O\" (1:160) and \"H\" (1:80) suggest a possible past or present infection with Typhoid fever.  The reference range is significantly lower (1:20).  Paratyphoid A and B titers are within the normal range.\n",
            "* **Dengue Serology:** Negative for Dengue NS1 antigen, IgG, and IgM antibodies, indicating no current or recent dengue infection.\n",
            "* **Malaria:** Negative for *Plasmodium falciparum* and *Plasmodium vivax*, ruling out malaria.\n",
            "\n",
            "**Hematological Findings:**\n",
            "\n",
            "* **Complete Blood Picture (CBC):**  Hemoglobin, RBC, WBC, Platelet count, and PCV are all within the normal range. Differential count shows slightly lower lymphocytes (31%) than the lower limit of normal range (20%), but otherwise within normal limits.  The peripheral blood smear shows normal cell morphology.\n",
            "* **Erythrocyte Sedimentation Rate (ESR):** Elevated (26 mm/hr in the first hour, 52 mm/hr in the second hour), which could indicate inflammation or infection.  This is consistent with the possible Typhoid infection suggested by the Widal test.\n",
            "\n",
            "**Biochemical Findings:**\n",
            "\n",
            "* **Liver Function Tests (LFTs):**  All liver enzymes (bilirubin, alkaline phosphatase, SGOT, SGPT) are within the normal range. Total protein and albumin are also within normal limits.\n",
            "* **Renal Function Test:** Serum creatinine is within the normal range (0.8 mg/dl), indicating normal kidney function.\n",
            "* **Blood Glucose:** Random blood glucose is not provided.  The report only includes the reference range.\n",
            "* **HbA1c:** 5.4%, indicating well-controlled blood sugar levels, or no diabetes.\n",
            "* **Electrolytes:** Sodium (122 mmol/l) is slightly below the lower limit of the reference range (135 mmol/l), while potassium and chloride are within normal limits. The low sodium warrants further investigation.\n",
            "\n",
            "\n",
            "**Overall:**\n",
            "\n",
            "The most significant finding is the elevated Widal test titers suggesting a possible typhoid infection, supported by the elevated ESR.  The low serum sodium requires further evaluation. All other tests (Dengue, Malaria, LFTs, renal function, CBC) are essentially normal except for slightly low sodium and lymphocytes.  Further investigation may be needed to confirm the typhoid suspicion and address the low sodium level.\n",
            "\n"
          ]
        }
      ]
    },
    {
      "cell_type": "code",
      "source": [
        "def summarize_health_report(text):\n",
        "  \"\"\"Summarizes the health report using Gemini AI.\"\"\"\n",
        "  model = genai.GenerativeModel(\"gemini-1.5-flash\")\n",
        "  prompt = f\"Summarize the following health report:\\n\\n{text}\"\n",
        "  response = model.generate_content(prompt)\n",
        "  return response.text\n",
        "summary = summarize_health_report(extracted_text)\n",
        "print(\"Summary:\\n\", summary)"
      ],
      "metadata": {
        "colab": {
          "base_uri": "https://localhost:8080/",
          "height": 471
        },
        "id": "qFwS4YJKkxNt",
        "outputId": "be108874-22be-44f8-a766-fae233b82bc3"
      },
      "execution_count": 13,
      "outputs": [
        {
          "output_type": "stream",
          "name": "stdout",
          "text": [
            "Summary:\n",
            " Mr. Kishan Goud's (MR2100003157) lab results from 01/02/2021 show:\n",
            "\n",
            "**Infectious Disease Screen:**\n",
            "\n",
            "* **Widal Test:** Elevated titers for *Salmonella Typhi* \"O\" (1:160) and \"H\" (1:80), suggesting possible past or present typhoid fever.  *Salmonella Paratyphi* \"AH\" and \"BH\" were within normal range.\n",
            "* **Dengue Serology:** Negative for NS1 antigen, IgG, and IgM antibodies.\n",
            "* **Malaria:** Negative for both *Plasmodium vivax* and *Plasmodium falciparum*.\n",
            "\n",
            "**Hematology:**\n",
            "\n",
            "* **Complete Blood Picture (CBC):**  Hemoglobin, RBC, WBC, platelet count, and PCV were all within normal ranges. Differential count showed normal neutrophil, lymphocyte, eosinophil, monocyte, and basophil levels.  Peripheral blood smear showed normal findings.\n",
            "* **Erythrocyte Sedimentation Rate (ESR):** Elevated (26 mm/hr in the first hour, 52 mm/hr in the second hour), indicating inflammation.\n",
            "\n",
            "**Biochemistry:**\n",
            "\n",
            "* **Liver Function Test (LFT):**  All values (bilirubin - total, direct, indirect; alkaline phosphatase; SGOT; SGPT; total protein; albumin; globulin; A/G ratio) were within normal limits.\n",
            "* **Serum Electrolytes:** Sodium (122 mmol/l) slightly low, potassium and chloride within normal range.\n",
            "* **Serum Creatinine:** Within normal range (0.8 mg/dl).\n",
            "* **Random Blood Glucose:**  Result not provided in the excerpt.\n",
            "* **HbA1c:** Within the normal non-diabetic range (5.4%).\n",
            "\n",
            "\n",
            "**Overall:** The results show some evidence of past or present typhoid infection (Widal test) and inflammation (ESR).  Other tests for infectious diseases (dengue, malaria) were negative.  Most other blood tests were within normal limits.  The slightly low sodium level warrants further investigation.  The provided blood glucose result is missing.\n",
            "\n"
          ]
        }
      ]
    },
    {
      "cell_type": "code",
      "source": [
        "def detect_abnormalities(text):\n",
        "  \"\"\"Analyzes lab test results and flags abnormal values\"\"\"\n",
        "  model = genai.GenerativeModel(\"gemini-1.5-flash\")\n",
        "  prompt = f\"Detect abnormal lab values in the following health report:\\n\\n{text}\"\n",
        "  response = model.generate_content(prompt)\n",
        "  return response.text\n",
        "abnormalities = detect_abnormalities(extracted_text)\n",
        "print(\"Abnormal Values:\\n\", abnormalities)"
      ],
      "metadata": {
        "colab": {
          "base_uri": "https://localhost:8080/",
          "height": 280
        },
        "id": "SOJa5mtDmOhV",
        "outputId": "e4e716ff-07db-497d-bfab-f420812c4772"
      },
      "execution_count": 15,
      "outputs": [
        {
          "output_type": "stream",
          "name": "stdout",
          "text": [
            "Abnormal Values:\n",
            " Based on the provided lab report, the following values are outside the reference ranges, indicating potential abnormalities:\n",
            "\n",
            "* **ESR 1st Hour:** 26 mm/hr (Reference range: 0-8 mm/hr).  This significantly elevated ESR suggests inflammation in the body.\n",
            "\n",
            "* **ESR 2nd Hour:** 52 mm/hr (No reference range provided, but considerably higher than the first hour and indicative of inflammation).\n",
            "\n",
            "* **Serum Sodium:** 122 mmol/l (Reference range: 135-146 mmol/l). This hyponatremia (low sodium) is a significant finding and requires medical attention.\n",
            "\n",
            "* **Serum Chloride:** 97 mmol/l (Reference range: 98-107 mmol/l). While only slightly below the lower limit, this mild hypochloremia (low chloride) might be clinically relevant in conjunction with the hyponatremia.\n",
            "\n",
            "\n",
            "**Important Note:**  I am an AI and cannot provide medical advice.  These are simply observations of values outside of reference ranges.  Mr. Kishan Goud needs to discuss these results with his physician Dr. Krishna Prasad for proper interpretation and determination of the next steps in his care.  The abnormalities, particularly the low sodium, warrant immediate medical attention.\n",
            "\n"
          ]
        }
      ]
    },
    {
      "cell_type": "code",
      "source": [
        "def explain_medical_terms(text):\n",
        "  \"\"\"Asks Gemini AI to simplify medical terms for patient understanding\"\"\"\n",
        "  model = genai.GenerativeModel(\"gemini-1.5-flash\")  # Using the Gemini model\n",
        "  prompt = f\"Explain the medical terms in the following health report in simple language:\\n\\n{text}\"\n",
        "  response = model.generate_content(prompt)\n",
        "  return response.text\n",
        "\n",
        "simplified_terms = explain_medical_terms(extracted_text)\n",
        "print(\"Simplified Explanation:\\n\", simplified_terms)"
      ],
      "metadata": {
        "colab": {
          "base_uri": "https://localhost:8080/",
          "height": 922
        },
        "id": "74B9JTEzoK51",
        "outputId": "047b2019-857b-4153-9ea2-cf46f9e67c77"
      },
      "execution_count": 19,
      "outputs": [
        {
          "output_type": "stream",
          "name": "stdout",
          "text": [
            "Simplified Explanation:\n",
            " This report shows the results of several blood tests performed on Mr. Kishan Goud. Let's break down each section:\n",
            "\n",
            "\n",
            "**1. WIDAL Test:** This test checks for antibodies against *Salmonella Typhi* and *Salmonella Paratyphi*, bacteria that cause typhoid fever and paratyphoid fever, respectively.  The numbers (e.g., 1:160) represent the dilution of the sample at which antibodies are still detected.  Higher numbers suggest a greater likelihood of infection.  In this case:\n",
            "\n",
            "* **S. Typhi \"O\" 1:160:**  Suggests a possible past or present infection with *Salmonella Typhi*.\n",
            "* **S. Typhi \"H\" 1:80:** Also suggests a possible past or present infection with *Salmonella Typhi*.\n",
            "* **S. Paratyphi \"A\"H 1:20:** Result is within the normal range, suggesting no current infection with *Salmonella Paratyphi* A.\n",
            "* **S. Paratyphi \"B\"H 1:20:** Result is within the normal range, suggesting no current infection with *Salmonella Paratyphi* B.\n",
            "\n",
            "**Important Note:** A Widal test alone isn't definitive for typhoid.  Further tests might be needed to confirm a diagnosis.\n",
            "\n",
            "\n",
            "**2. Dengue Serology:** This tests for dengue fever.  The results are all negative for NS1 antigen, IgG, and IgM antibodies, meaning the test did not detect evidence of a current or recent dengue infection.\n",
            "\n",
            "\n",
            "**3. Erythrocyte Sedimentation Rate (ESR):** This measures how quickly red blood cells settle in a test tube.  A higher ESR often indicates inflammation in the body.  The results show elevated ESR values (26 mm/hr and 52 mm/hr), which could suggest the presence of inflammation.\n",
            "\n",
            "\n",
            "**4. Rapid Malaria Test:** This test checks for malaria parasites in the blood.  Both *Plasmodium vivax* (P.V) and *Plasmodium falciparum* (P.F) tests are negative, indicating no malaria infection.\n",
            "\n",
            "\n",
            "**5. Complete Blood Picture (CBC):** This is a comprehensive blood test providing information about various blood components.  The results show:\n",
            "\n",
            "* **Hemoglobin (Hb):** 13.6 gms% (within the normal range) – This measures the oxygen-carrying capacity of the blood.\n",
            "* **Red Blood Cells (RBC):** 4.3 mill/cumm (slightly below the lower end of the normal range) – These carry oxygen.\n",
            "* **White Blood Cells (WBC):** 7,200 cells/cumm (within the normal range) – These fight infection.\n",
            "* **Platelets:** 2.0 lakhs/cumm (within the normal range) – These help with blood clotting.\n",
            "* **Packed Cell Volume (PCV):** 40.5% (within the normal range) – The percentage of red blood cells in the blood.\n",
            "* **Differential Count:** This shows the percentages of different types of white blood cells. All values are within or near the normal ranges.\n",
            "* **Peripheral Blood Smear:**  Microscopic examination of the blood showed normal-sized and colored red blood cells, normal white blood cell count, and adequate platelets.\n",
            "\n",
            "\n",
            "**6. HbA1c:** This test measures average blood sugar levels over the past 2-3 months. The result (5.4%) falls within the normal range for non-diabetics, indicating good blood sugar control.\n",
            "\n",
            "\n",
            "**7. Serum Creatinine:** This measures kidney function.  The result (0.8 mg/dl) is within the normal range.\n",
            "\n",
            "\n",
            "**8. Random Blood Glucose:** This measures blood sugar level at a specific time. The result is not provided in the given text.\n",
            "\n",
            "\n",
            "**9. Liver Function Test (LFT):** These tests assess the health of the liver.  All results (bilirubin, alkaline phosphatase, SGOT, SGPT, total protein, albumin, globulin, A/G ratio) are within or near the normal range.\n",
            "\n",
            "\n",
            "**10. Serum Electrolytes:** These tests measure the levels of sodium, potassium, and chloride in the blood, important for fluid balance and other bodily functions.  Sodium is slightly below the normal range (122 mmol/l). Potassium and chloride are within the normal ranges.\n",
            "\n",
            "\n",
            "**Overall:**  While some results show slight deviations from the ideal ranges (ESR, slightly low RBC and slightly low sodium), most of the test results appear within normal limits.  However, the elevated ESR and some marginally low values warrant further investigation by Mr. Goud's doctor.  The results do not definitively indicate any major disease, but they might be part of a larger clinical picture that requires additional assessment.  This interpretation is for informational purposes only and should not be substituted for the advice of a medical professional.  Mr. Goud should discuss these results with his physician Dr. Krishna Prasad.\n",
            "\n"
          ]
        }
      ]
    },
    {
      "cell_type": "code",
      "source": [
        "def ask_gemini_about_report(text, question):\n",
        "  \"\"\"Allows users to ask questions about their health report\"\"\"\n",
        "  model = genai.GenerativeModel(\"gemini-1.5-flash\")\n",
        "  prompt = f\"Here's a health report:\\n\\n{text}\\n\\nAnswer the following question based on the report:\\n{question}\"\n",
        "  response = model.generate_content(prompt)\n",
        "  return response.text\n",
        "\n",
        "question = \"What is the patient diagnosed with?\"\n",
        "answer = ask_gemini_about_report(extracted_text, question)\n",
        "print(\"Answer:\\n\", answer)"
      ],
      "metadata": {
        "colab": {
          "base_uri": "https://localhost:8080/",
          "height": 89
        },
        "id": "Xthhi5JNruSU",
        "outputId": "0f228d89-5aae-496a-bb15-ed9d0bbd3de4"
      },
      "execution_count": 21,
      "outputs": [
        {
          "output_type": "stream",
          "name": "stdout",
          "text": [
            "Answer:\n",
            " The report does not provide a diagnosis.  It shows the results of various tests, some of which show values outside the normal range (e.g., elevated ESR).  However, these results alone are not sufficient to make a diagnosis.  A physician needs to interpret these results in the context of the patient's symptoms and medical history to arrive at a diagnosis.\n",
            "\n"
          ]
        }
      ]
    },
    {
      "cell_type": "code",
      "source": [],
      "metadata": {
        "id": "MV2BEAOwr27K"
      },
      "execution_count": null,
      "outputs": []
    }
  ]
}